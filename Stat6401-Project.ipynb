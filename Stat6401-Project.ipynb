{
 "cells": [
  {
   "cell_type": "markdown",
   "metadata": {},
   "source": [
    "# Statistics 6401, Fall 2017\n",
    "\n",
    "## Project\n",
    "\n",
    "**Instruction:** Complete Exerices 1. and 2. or 3."
   ]
  },
  {
   "cell_type": "markdown",
   "metadata": {},
   "source": [
    "1. Read the two BVN Handouts from the class website.\n",
    "    - [BVNmatrixnotation.pdf](http://www.sci.csueastbay.edu/~esuess/classes/Statistics_6401/Handouts/BVN/BVNmatrixnotation.pdf)\n",
    "    - [2dRotationalTransformation.pdf](http://www.sci.csueastbay.edu/~esuess/classes/Statistics_6401/Handouts/BVN/2dRotationalTransformation.pdf)\n",
    "    \n",
    "  1. What are the two transformations that take two independent normal random values to two correlated/dependent normal random values?  \n",
    "  2. What are the two rotational transformations that take two correlated normal random values to two independent normal random values?  \n",
    "  3. Run the code provided in the [RBVNsim3.R](https://github.com/esuess/stat6401/blob/master/RBVNsim3.R) handout. Verify that the transformations perform as described.\n",
    "2. Investigate the use of the R packages, *IDPmisc* and *gplots*. In the *IDPmisc* package there is a command *ipairs* that is useful for plotting large amounts of data using color.  In the *gplots* package there is a command *hist2d* that is also useful for large data and uses color.\n",
    "Run the code provided at the bottom of the RBVNsim3.R handout. Use the output to better visualize the  correlation/dependence between the random values that have been simulated in the previous part.\n",
    "3.  If you want to work on a more theoretical project, such as applications of Bivariate Distributions, Transformations or Markov Chairs, then contact the Professor to discuss alternative plans for the Project."
   ]
  }
 ],
 "metadata": {
  "kernelspec": {
   "display_name": "R",
   "language": "R",
   "name": "ir"
  },
  "language_info": {
   "codemirror_mode": "r",
   "file_extension": ".r",
   "mimetype": "text/x-r-source",
   "name": "R",
   "pygments_lexer": "r",
   "version": "3.3.2"
  }
 },
 "nbformat": 4,
 "nbformat_minor": 2
}
